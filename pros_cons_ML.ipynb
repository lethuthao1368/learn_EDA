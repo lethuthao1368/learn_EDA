{
 "cells": [
  {
   "cell_type": "markdown",
   "metadata": {},
   "source": [
    "## This is pros and cons ML page\n",
    "Source: https://towardsdatascience.com/pros-and-cons-of-various-classification-ml-algorithms-3b5bfb3c87d6\n",
    "### Hình minh họa các model được dùng bởi nhóm 1 - phase atom để dự đoán khả năng thành công của chiến lược tele marketing\n",
    "![image](https://user-images.githubusercontent.com/82632259/132848734-d6e923f3-d1c2-45d0-804a-018a0f698bf1.png)\n"
   ]
  },
  {
   "cell_type": "markdown",
   "metadata": {},
   "source": [
    "## Logistic Regression\n",
    "1. Ưu điểm\n",
    "- Đơn giản khi thao tác, hiệu quả\n",
    "- Không cần feature scaling, không cần tuning of hyperparameters\n",
    "2. Nhược điểm\n",
    "- Dùng không tốt nếu nó là non-linear data\n",
    "- Dùng không tốt nếu các features không liên quan (irrelevant) và có sự tương quan cao (highly correlated)\n",
    "- Không xịn lắm\n",
    "- Phụ thuộc nhiều vào data đầu vào (cần bước chọn lọc data kĩ lưỡng)\n",
    "3. Ứng dụng\n",
    "- Bài toán trả ra kết quả binary (fail/pass, yes/ no for banking loan, churn or not, spam email)"
   ]
  },
  {
   "cell_type": "markdown",
   "metadata": {},
   "source": [
    "## Decision Trees\n",
    "1. Ưu điểm\n",
    "- Không cần normalization hay là scaling data\n",
    "- Có thể dùng được cho missing value\n",
    "- Dễ giải thích cho non-technical guys\n",
    "- Dễ minh họa\n",
    "- Tự động chọn các features => irrelevant features không ảnh hưởng\n",
    "2. Cons\n",
    "- Dễ bị overfitting (Overfitting refers to learning the training data detail and noise which leads to poor generalization\n",
    "                     It can be limited by using resampling and defining a validation dataset. - Theo ML cheatsheet)\n",
    "=> Cũng cần ressampling trước\n",
    "- Sensitive to data: data thay đổi nhỏ cũng có thể dẫn đến kết quả thay đổi lớn\n",
    "- Tốn nhiều thời gian?\n",
    "3. Applications:\n",
    "- Dùng để xác định khách hàng cho các sản phẩm, lên chiến lược để đạt được max profit, min cost\n",
    "- Cũng như tìm ra features quan trọng để thu hút khách (frequency of shopping, frequent discount, product mix)\n",
    "- Phát hiện lỗi đứt gãy (fault) ví dụ từ áp suất, độ rung => để predict fault\n"
   ]
  },
  {
   "cell_type": "markdown",
   "metadata": {},
   "source": [
    "## XGBoost\n",
    "1. Pros\n",
    "- Không cần phải sử lý feature nhiều (không cần scaling, normalize, handle missing value well)\n",
    "- Chỉ ra được những feature quan trọng (có thể dùng để chọn feature)\n",
    "- Nhanh\n",
    "- Ít bị ảnh hưởng bởi outliers\n",
    "- Dùng được vs large datasets\n",
    "- Performance tốt (win hầu hết các cuộc thi Kaggle)\n",
    "- ít sợ bị overfitting\n",
    "2. Cons\n",
    "- Khó để diễn giản, khó visualize\n",
    "- Vẫn có thể bị overfitting nếu parameters không được điều chỉnh tuned đúng đắn (khó tune :))\n",
    "3. Applications:\n",
    "- Dùng cho việc classification\n",
    "- Đặc biệt: nhiều features, large dataset, nhiều outliers, nhiều missing values, không cần tốn nhiều time để feature engineering"
   ]
  },
  {
   "cell_type": "markdown",
   "metadata": {},
   "source": [
    "## k-NN (K Nearest Neighbors)\n",
    "1. Pros\n",
    "- Đơn giản, không cần assumption (linear regression: cần tìm biến phụ thuộc depent and indepent var với cái line.\n",
    "trong Navie Bayers cần tìm features độc lập với nhau)\n",
    "- New data cũng dùng được\n",
    "- Dùng cho Multi-class\n",
    "- Hyper parameters 1 lần thui\n",
    "2. Cons\n",
    "- Chậm\n",
    "- Dataset có nhiều features quá thì không tốt\n",
    "- Cần phải scaling data?\n",
    "- Không tốt với imbalanced data? \n",
    "- Không tốt nếu có outliers\n",
    "- Không đụng được missing values\n",
    "3. Applications:\n",
    "- Dùng với classification khi dataset nhỏ, ít features\n",
    "- Hoặc không biết cái shape của data nó sẽ nhue thế nào (ví dụ không biết là đường thẳng hay đường cong)"
   ]
  },
  {
   "cell_type": "code",
   "execution_count": null,
   "metadata": {},
   "outputs": [],
   "source": []
  }
 ],
 "metadata": {
  "kernelspec": {
   "display_name": "Python 3",
   "language": "python",
   "name": "python3"
  },
  "language_info": {
   "codemirror_mode": {
    "name": "ipython",
    "version": 3
   },
   "file_extension": ".py",
   "mimetype": "text/x-python",
   "name": "python",
   "nbconvert_exporter": "python",
   "pygments_lexer": "ipython3",
   "version": "3.8.5"
  }
 },
 "nbformat": 4,
 "nbformat_minor": 4
}
